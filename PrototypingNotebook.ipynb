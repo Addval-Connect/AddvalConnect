{
 "cells": [
  {
   "cell_type": "markdown",
   "id": "85f7f0e9-b1a9-43d3-9e5e-b9d3d29c547f",
   "metadata": {
    "tags": []
   },
   "source": [
    "# IMPORTS"
   ]
  },
  {
   "cell_type": "code",
   "execution_count": 1,
   "id": "875f8d16",
   "metadata": {},
   "outputs": [],
   "source": [
    "from datetime import datetime\n",
    "\n",
    "from clientes.analisis_fuensalida import analisis_fuensalida_params as params\n",
    "from read_data_base.data_collectors import SQLServerCollector\n",
    "from read_data_base.softland_querys import QueryTipoDocumentos,QueryAuxiliares,QueryTodosMovimientos,QueryTodosComprobantes\n",
    "\n",
    "from analisis_cuentas.informe_cuentas_softland import remove_initial_movements\n",
    "\n",
    "import pandas as pd"
   ]
  },
  {
   "cell_type": "markdown",
   "id": "6b3b6309",
   "metadata": {},
   "source": [
    "# GET DATA"
   ]
  },
  {
   "cell_type": "code",
   "execution_count": 2,
   "id": "c3be095d",
   "metadata": {},
   "outputs": [],
   "source": [
    "input_date = datetime.strptime(\"30/09/2021\",\"%d/%m/%Y\")\n",
    "\n",
    "collector = SQLServerCollector( params.server,\n",
    "                                params.port,\n",
    "                                params.database,\n",
    "                                params.username,\n",
    "                                params.password)\n",
    "\n",
    "docs_query = QueryTipoDocumentos()\n",
    "auxiliares_query = QueryAuxiliares()\n",
    "movimientos_query = QueryTodosMovimientos(params.reembolsos)\n",
    "comprobantes_query = QueryTodosComprobantes()\n",
    "\n",
    "#Connect to database\n",
    "collector.connect()\n",
    "\n",
    "#Read Doc Types\n",
    "all_docs_df = collector.get_data(docs_query)\n",
    "\n",
    "#Read Auxiliares\n",
    "auxiliares = collector.get_data(auxiliares_query)\n",
    "\n",
    "#Read comprobantes\n",
    "comprobantes = collector.get_data(comprobantes_query)\n",
    "\n",
    "#Read Movements\n",
    "movimientos = collector.get_data(movimientos_query)"
   ]
  },
  {
   "cell_type": "markdown",
   "id": "3439812a",
   "metadata": {},
   "source": [
    "# TESTING AREA"
   ]
  },
  {
   "cell_type": "code",
   "execution_count": 16,
   "id": "5c0049d3",
   "metadata": {},
   "outputs": [],
   "source": [
    "# clean_movements = remove_initial_movements(movimientos)\n",
    "clean_movements = movimientos[movimientos.MovGlosa.str.contains('Gasto|gasto|reembolso|Reembolso')]\n",
    "# clean_movements = movimientos[movimientos.TipDocCb != '00']\n",
    "# filtered_movements = clean_movements.groupby(['CodAux']).filter(lambda group: group.Debe.sum()-group.Haber.sum()!=0).sort_values(['CodAux','CpbAno','CpbNum'])\n",
    "# # clean_movements.set_index(['CodAux','CpbAno','CpbNum'])\n",
    "clean_movements.to_excel('movimientors_reembolsos.xlsx')"
   ]
  },
  {
   "cell_type": "code",
   "execution_count": 21,
   "id": "05603fa3",
   "metadata": {},
   "outputs": [],
   "source": [
    "comprobantes[(comprobantes.CpbAno == '2017')&((comprobantes.CpbNum == '00002070')|(comprobantes.CpbNum == '00002081'))].to_excel('cpb.xlsx')"
   ]
  },
  {
   "cell_type": "code",
   "execution_count": 3,
   "id": "c4353cbd",
   "metadata": {},
   "outputs": [],
   "source": [
    "pd.merge(\n",
    "        movimientos,\n",
    "        comprobantes,\n",
    "        how=\"left\",\n",
    "        left_on=['CpbAno','CpbNum'],\n",
    "        right_on=['CpbAno','CpbNum'],\n",
    "        suffixes=(\"\", \"_\")).to_excel('movimientors_reembolsos.xlsx')"
   ]
  },
  {
   "cell_type": "code",
   "execution_count": 31,
   "id": "abcf2305",
   "metadata": {},
   "outputs": [
    {
     "data": {
      "text/html": [
       "<div>\n",
       "<style scoped>\n",
       "    .dataframe tbody tr th:only-of-type {\n",
       "        vertical-align: middle;\n",
       "    }\n",
       "\n",
       "    .dataframe tbody tr th {\n",
       "        vertical-align: top;\n",
       "    }\n",
       "\n",
       "    .dataframe thead th {\n",
       "        text-align: right;\n",
       "    }\n",
       "</style>\n",
       "<table border=\"1\" class=\"dataframe\">\n",
       "  <thead>\n",
       "    <tr style=\"text-align: right;\">\n",
       "      <th></th>\n",
       "      <th>0</th>\n",
       "      <th>1</th>\n",
       "      <th>2</th>\n",
       "      <th>3</th>\n",
       "    </tr>\n",
       "  </thead>\n",
       "  <tbody>\n",
       "    <tr>\n",
       "      <th>0</th>\n",
       "      <td>0</td>\n",
       "      <td>1</td>\n",
       "      <td>2</td>\n",
       "      <td>3</td>\n",
       "    </tr>\n",
       "    <tr>\n",
       "      <th>1</th>\n",
       "      <td>30/09/2021</td>\n",
       "      <td>30/09/2021</td>\n",
       "      <td>30/09/2021</td>\n",
       "      <td>30/09/2021</td>\n",
       "    </tr>\n",
       "    <tr>\n",
       "      <th>2</th>\n",
       "      <td>0</td>\n",
       "      <td>1</td>\n",
       "      <td>2</td>\n",
       "      <td>3</td>\n",
       "    </tr>\n",
       "  </tbody>\n",
       "</table>\n",
       "</div>"
      ],
      "text/plain": [
       "            0           1           2           3\n",
       "0           0           1           2           3\n",
       "1  30/09/2021  30/09/2021  30/09/2021  30/09/2021\n",
       "2           0           1           2           3"
      ]
     },
     "execution_count": 31,
     "metadata": {},
     "output_type": "execute_result"
    }
   ],
   "source": [
    "output_df = pd.DataFrame([[0,1,2,3],[0,1,2,3],[0,1,2,3]])\n",
    "output_df.iloc[1,:] = \"30/09/2021\"\n",
    "output_df"
   ]
  },
  {
   "cell_type": "code",
   "execution_count": null,
   "id": "b60296e6",
   "metadata": {},
   "outputs": [],
   "source": []
  }
 ],
 "metadata": {
  "interpreter": {
   "hash": "a8f61be024eba58adef938c9aa1e29e02cb3dece83a5348b1a2dafd16a070453"
  },
  "kernelspec": {
   "display_name": "Python 3.8.8 64-bit ('base': conda)",
   "name": "python3"
  },
  "language_info": {
   "codemirror_mode": {
    "name": "ipython",
    "version": 3
   },
   "file_extension": ".py",
   "mimetype": "text/x-python",
   "name": "python",
   "nbconvert_exporter": "python",
   "pygments_lexer": "ipython3",
   "version": "3.8.8"
  },
  "toc-autonumbering": true,
  "widgets": {
   "application/vnd.jupyter.widget-state+json": {
    "state": {},
    "version_major": 2,
    "version_minor": 0
   }
  }
 },
 "nbformat": 4,
 "nbformat_minor": 5
}
