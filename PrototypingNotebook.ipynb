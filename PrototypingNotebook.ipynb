{
 "cells": [
  {
   "cell_type": "markdown",
   "id": "85f7f0e9-b1a9-43d3-9e5e-b9d3d29c547f",
   "metadata": {
    "tags": []
   },
   "source": [
    "# IMPORTS"
   ]
  },
  {
   "cell_type": "code",
   "execution_count": 11,
   "id": "875f8d16",
   "metadata": {},
   "outputs": [],
   "source": [
    "from datetime import datetime\n",
    "\n",
    "from clientes.analisis_fuensalida import analisis_fuensalida_params as params\n",
    "from read_data_base.data_collectors import SQLServerCollector\n",
    "from read_data_base.softland_querys import QueryTipoDocumentos,QueryAuxiliares,QueryTodosMovimientos,QueryTodosComprobantes\n",
    "\n",
    "from analisis_cuentas.informe_cuentas_softland import remove_initial_movements"
   ]
  },
  {
   "cell_type": "markdown",
   "id": "6b3b6309",
   "metadata": {},
   "source": [
    "# GET DATA"
   ]
  },
  {
   "cell_type": "code",
   "execution_count": 12,
   "id": "c3be095d",
   "metadata": {},
   "outputs": [],
   "source": [
    "input_date = datetime.strptime(\"30/09/2021\",\"%d/%m/%Y\")\n",
    "\n",
    "collector = SQLServerCollector( params.server,\n",
    "                                params.port,\n",
    "                                params.database,\n",
    "                                params.username,\n",
    "                                params.password)\n",
    "\n",
    "docs_query = QueryTipoDocumentos()\n",
    "auxiliares_query = QueryAuxiliares()\n",
    "movimientos_query = QueryTodosMovimientos(params.reembolsos)\n",
    "comprobantes_query = QueryTodosComprobantes()\n",
    "\n",
    "#Connect to database\n",
    "collector.connect()\n",
    "\n",
    "#Read Doc Types\n",
    "all_docs_df = collector.get_data(docs_query)\n",
    "\n",
    "#Read Auxiliares\n",
    "auxiliares = collector.get_data(auxiliares_query)\n",
    "\n",
    "#Read comprobantes\n",
    "comprobantes = collector.get_data(comprobantes_query)\n",
    "\n",
    "#Read Movements\n",
    "movimientos = collector.get_data(movimientos_query)"
   ]
  },
  {
   "cell_type": "markdown",
   "id": "3439812a",
   "metadata": {},
   "source": [
    "# TESTING AREA"
   ]
  },
  {
   "cell_type": "code",
   "execution_count": 13,
   "id": "5c0049d3",
   "metadata": {},
   "outputs": [
    {
     "ename": "NameError",
     "evalue": "name 'movimientons' is not defined",
     "output_type": "error",
     "traceback": [
      "\u001b[1;31m---------------------------------------------------------------------------\u001b[0m",
      "\u001b[1;31mNameError\u001b[0m                                 Traceback (most recent call last)",
      "\u001b[1;32m<ipython-input-13-8dcffe88a0a3>\u001b[0m in \u001b[0;36m<module>\u001b[1;34m\u001b[0m\n\u001b[0;32m      1\u001b[0m \u001b[1;31m# clean_movements = remove_initial_movements(movimientos)\u001b[0m\u001b[1;33m\u001b[0m\u001b[1;33m\u001b[0m\u001b[1;33m\u001b[0m\u001b[0m\n\u001b[1;32m----> 2\u001b[1;33m \u001b[0mclean_movements\u001b[0m \u001b[1;33m=\u001b[0m \u001b[0mmovimientos\u001b[0m\u001b[1;33m[\u001b[0m\u001b[0mmovimientons\u001b[0m\u001b[1;33m.\u001b[0m\u001b[0mTipDocCb\u001b[0m \u001b[1;33m!=\u001b[0m \u001b[1;34m'00'\u001b[0m\u001b[1;33m]\u001b[0m\u001b[1;33m\u001b[0m\u001b[1;33m\u001b[0m\u001b[0m\n\u001b[0m\u001b[0;32m      3\u001b[0m \u001b[1;31m# filtered_movements = clean_movements.groupby(['CodAux']).filter(lambda group: group.Debe.sum()-group.Haber.sum()!=0).sort_values(['CodAux','CpbAno','CpbNum'])\u001b[0m\u001b[1;33m\u001b[0m\u001b[1;33m\u001b[0m\u001b[1;33m\u001b[0m\u001b[0m\n\u001b[0;32m      4\u001b[0m \u001b[1;31m# # clean_movements.set_index(['CodAux','CpbAno','CpbNum'])\u001b[0m\u001b[1;33m\u001b[0m\u001b[1;33m\u001b[0m\u001b[1;33m\u001b[0m\u001b[0m\n\u001b[0;32m      5\u001b[0m \u001b[0mclean_movements\u001b[0m\u001b[1;33m.\u001b[0m\u001b[0mto_excel\u001b[0m\u001b[1;33m(\u001b[0m\u001b[1;34m'movimientors_reembolsos.xlsx'\u001b[0m\u001b[1;33m)\u001b[0m\u001b[1;33m\u001b[0m\u001b[1;33m\u001b[0m\u001b[0m\n",
      "\u001b[1;31mNameError\u001b[0m: name 'movimientons' is not defined"
     ]
    }
   ],
   "source": [
    "# clean_movements = remove_initial_movements(movimientos)\n",
    "clean_movements = movimientos[movimientos.TipDocCb != '00']\n",
    "# filtered_movements = clean_movements.groupby(['CodAux']).filter(lambda group: group.Debe.sum()-group.Haber.sum()!=0).sort_values(['CodAux','CpbAno','CpbNum'])\n",
    "# # clean_movements.set_index(['CodAux','CpbAno','CpbNum'])\n",
    "clean_movements.to_excel('movimientors_reembolsos.xlsx')"
   ]
  },
  {
   "cell_type": "code",
   "execution_count": 8,
   "metadata": {},
   "outputs": [
    {
     "data": {
      "text/plain": [
       "Index(['CpbAno', 'CpbNum', 'MovNum', 'AreaCod', 'PctCod', 'CpbFec', 'CpbMes',\n",
       "       'CvCod', 'VendCod', 'UbicCod', 'CajCod', 'IfCod', 'MovIfCant', 'DgaCod',\n",
       "       'MovDgCant', 'CcCod', 'TipDocCb', 'NumDocCb', 'CodAux', 'TtdCod',\n",
       "       'NumDoc', 'MovFe', 'MovFv', 'MovTipDocRef', 'MovNumDocRef', 'MovDebe',\n",
       "       'MovHaber', 'MovGlosa', 'MonCod', 'MovEquiv', 'MovDebeMa', 'MovHaberMa',\n",
       "       'MovNumCar', 'MovTC', 'MovNC', 'MovIPr', 'MovAEquiv', 'FecPag',\n",
       "       'CODCPAG', 'CbaNumMov', 'CbaAnoC', 'GrabaDLib', 'CpbOri', 'CodBanco',\n",
       "       'CodCtaCte', 'MtoTotal', 'Cuota', 'CuotaRef', 'Marca', 'fecEmisionch',\n",
       "       'paguesea', 'Impreso', 'dlicoint_aperturas', 'nro_operacion',\n",
       "       'FormadePag', 'CpbNormaIFRS', 'CpbNormaTrib'],\n",
       "      dtype='object')"
      ]
     },
     "execution_count": 8,
     "metadata": {},
     "output_type": "execute_result"
    }
   ],
   "source": [
    "comprobantes.columns\n",
    "clean_movements.columns\n"
   ]
  }
 ],
 "metadata": {
  "interpreter": {
   "hash": "a8f61be024eba58adef938c9aa1e29e02cb3dece83a5348b1a2dafd16a070453"
  },
  "kernelspec": {
   "display_name": "Python 3.8.8 64-bit ('base': conda)",
   "name": "python3"
  },
  "language_info": {
   "codemirror_mode": {
    "name": "ipython",
    "version": 3
   },
   "file_extension": ".py",
   "mimetype": "text/x-python",
   "name": "python",
   "nbconvert_exporter": "python",
   "pygments_lexer": "ipython3",
   "version": "3.8.8"
  },
  "toc-autonumbering": true,
  "widgets": {
   "application/vnd.jupyter.widget-state+json": {
    "state": {},
    "version_major": 2,
    "version_minor": 0
   }
  }
 },
 "nbformat": 4,
 "nbformat_minor": 5
}
